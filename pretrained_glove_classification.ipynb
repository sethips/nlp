{
  "nbformat": 4,
  "nbformat_minor": 0,
  "metadata": {
    "colab": {
      "name": "pretrained_glove_classification.ipynb",
      "provenance": [],
      "collapsed_sections": [],
      "include_colab_link": true
    },
    "kernelspec": {
      "name": "python3",
      "display_name": "Python 3"
    }
  },
  "cells": [
    {
      "cell_type": "markdown",
      "metadata": {
        "id": "view-in-github",
        "colab_type": "text"
      },
      "source": [
        "<a href=\"https://colab.research.google.com/github/shraddha-an/nlp/blob/main/pretrained_glove_classification.ipynb\" target=\"_parent\"><img src=\"https://colab.research.google.com/assets/colab-badge.svg\" alt=\"Open In Colab\"/></a>"
      ]
    },
    {
      "cell_type": "markdown",
      "metadata": {
        "id": "P568CBV8nPxM"
      },
      "source": [
        "# **Case Study: NLP models for Text Classification**"
      ]
    },
    {
      "cell_type": "markdown",
      "metadata": {
        "id": "BmwRePl_nOB4"
      },
      "source": [
        "## **Introduction**\n",
        "\n",
        "In this project, I look at 2 different NLP models for classifying questions on Stack Overflow into 3 categories depending on their quality.\n",
        "\n",
        "This Case Study outlines 2 techniques to achieve the task of text classification:\n",
        "\n",
        "1.   [Training Word Embedding](https://github.com/shraddha-an/nlp/blob/main/word_embedding_classification.ipynb)\n",
        "2.   Pretrained GloVe Word Embeddings\n",
        "\n",
        "This Colab Notebook focusses on the second task, Using the GloVe pre-trained Embedding.\n",
        "\n",
        "\n",
        "**Dataset**: [Stack Overflow Questions](https://www.kaggle.com/imoore/60k-stack-overflow-questions-with-quality-rate)\n"
      ]
    },
    {
      "cell_type": "markdown",
      "metadata": {
        "id": "-JJfG7f2ok57"
      },
      "source": [
        "## 1) **Data Preparation**"
      ]
    },
    {
      "cell_type": "code",
      "metadata": {
        "id": "9TXLaHOnmdBY"
      },
      "source": [
        "# Importing libraries\n",
        "# Data Manipulation/ Handling\n",
        "import pandas as pd, numpy as np\n",
        "\n",
        "# Visualization\n",
        "import seaborn as sb, matplotlib.pyplot as plt\n",
        "\n",
        "# NLP libraries\n",
        "import re\n",
        "from nltk.corpus import stopwords\n",
        "from nltk.stem.wordnet import WordNetLemmatizer\n",
        "from gensim.utils import simple_preprocess\n",
        "\n",
        "stop_words = set(stopwords.words('english'))"
      ],
      "execution_count": null,
      "outputs": []
    },
    {
      "cell_type": "code",
      "metadata": {
        "id": "P7X-jWkho0IT"
      },
      "source": [
        "# Importing training & testing datasets\n",
        "dataset = pd.read_csv('train.csv')[['Body', 'Y']].rename(columns = {'Body': 'question', 'Y': 'category'})\n",
        "ds = pd.read_csv('valid.csv')[['Body', 'Y']].rename(columns = {'Body': 'question', 'Y': 'category'})"
      ],
      "execution_count": null,
      "outputs": []
    },
    {
      "cell_type": "markdown",
      "metadata": {
        "id": "YZPixtSjpU6W"
      },
      "source": [
        "## **2) NLP Preprocessing**"
      ]
    },
    {
      "cell_type": "code",
      "metadata": {
        "id": "HYw0IZIOo70V"
      },
      "source": [
        "# Removing symbols, stopwords, punctuation\n",
        "symbols = re.compile(pattern = '[/<>(){}\\[\\]\\|@,;]')\n",
        "tags = ['href', 'http', 'https', 'www']\n",
        "\n",
        "def text_clean(s: str) -> str:\n",
        "    \"\"\"\n",
        "    Removes unwanted symbols, punctuation and stop words from a given string.\n",
        "    \"\"\"\n",
        "    s = symbols.sub(' ', s)\n",
        "    lemma = WordNetLemmatizer()\n",
        "    for i in tags:\n",
        "        s = s.replace(i, ' ')\n",
        "    cleaned_text = ' '.join(lemma.lemmatize(word) for word in simple_preprocess(s, deacc = True) if not word in stop_words)\n",
        "    return cleaned_text\n",
        "\n",
        "# Applying the function on the questions column\n",
        "dataset.iloc[:, 0] = dataset.iloc[:, 0].apply(text_clean)\n",
        "ds.iloc[:, 0] = ds.iloc[:, 0].apply(text_clean)\n",
        "\n",
        "# Train & Test subsets\n",
        "X_train, y_train = dataset.iloc[:, 0].values, dataset.iloc[:, 1].values.reshape(-1, 1)\n",
        "X_test, y_test = ds.iloc[:, 0].values, ds.iloc[:, 1].values.reshape(-1, 1)\n"
      ],
      "execution_count": null,
      "outputs": []
    },
    {
      "cell_type": "markdown",
      "metadata": {
        "id": "aePnEQ11tokf"
      },
      "source": [
        "## **3) Categorical Encoding**"
      ]
    },
    {
      "cell_type": "code",
      "metadata": {
        "id": "kfqV81XPqUJt"
      },
      "source": [
        "# One Hot Encoding the Categories Column\n",
        "from sklearn.preprocessing import OneHotEncoder as ohe\n",
        "from sklearn.compose import ColumnTransformer\n",
        "\n",
        "ct = ColumnTransformer(transformers = [('one_hot_encoder', ohe(categories = 'auto'), [0])],\n",
        "                       remainder = 'passthrough')\n",
        "\n",
        "y_train = ct.fit_transform(y_train)\n",
        "y_test = ct.transform(y_test)"
      ],
      "execution_count": null,
      "outputs": []
    },
    {
      "cell_type": "markdown",
      "metadata": {
        "id": "JWo1SnLXtzv3"
      },
      "source": [
        "## **4) Tokenization**"
      ]
    },
    {
      "cell_type": "code",
      "metadata": {
        "id": "c_BOIy-qtuP_"
      },
      "source": [
        "# Vectorizing our text corpus of questions\n",
        "# Setting some paramters\n",
        "vocab_size = 2100\n",
        "glove_dim = 50\n",
        "sequence_length = 300\n",
        "\n",
        "# Tokenization with keras\n",
        "from keras.preprocessing.text import Tokenizer\n",
        "\n",
        "tk = Tokenizer(num_words = vocab_size)\n",
        "tk.fit_on_texts(X_train)\n",
        "\n",
        "X_train = tk.texts_to_sequences(X_train)\n",
        "X_test = tk.texts_to_sequences(X_test)\n",
        "\n",
        "# Padding all questions with zeros\n",
        "from keras.preprocessing.sequence import pad_sequences\n",
        "\n",
        "X_train_seq = pad_sequences(X_train, maxlen = 6700, padding = 'post')\n",
        "X_test_seq = pad_sequences(X_test, maxlen = 6700, padding = 'post')\n"
      ],
      "execution_count": null,
      "outputs": []
    },
    {
      "cell_type": "markdown",
      "metadata": {
        "id": "t_aJrLramGZ4"
      },
      "source": [
        "## 5) Building the Embedding Matrix"
      ]
    },
    {
      "cell_type": "code",
      "metadata": {
        "id": "H2jvGtNvmNgH"
      },
      "source": [
        "# Importing the 50-dimensional embedding text file\n",
        "path = 'Full path to your chosen dimensional glove text file'\n",
        "\n",
        "embeddings = {}\n",
        "\n",
        "with open(path, 'r', encoding = 'utf-8') as f:\n",
        "    for line in f:\n",
        "      values = line.split()                                          # Each line in the file is a word + 50 integers denoting its vector.\n",
        "      embeddings[values[0]] = np.array(values[1:], 'float32')        # The first element of every line is a word & the rest 50 are its array of integers.\n",
        "\n",
        "\n",
        "# Building the embeddings matrix out of words present in our corpus\n",
        "embedding_matrix = np.zeros((vocab_size, glove_dim))            # glove_dim = 50 as I chose to use the 50-D embedding; replace it with the one you choose.\n",
        "\n",
        "for word, index in word_index.items():\n",
        "    if index < vocab_size:\n",
        "        try:\n",
        "          embedding_matrix[index] = embeddings[word]                  # If the embedding for the given word exists, retrieve it and map it to the word.\n",
        "        except:\n",
        "            pass\n",
        "\n"
      ],
      "execution_count": null,
      "outputs": []
    },
    {
      "cell_type": "markdown",
      "metadata": {
        "id": "akQ5PmeYubxT"
      },
      "source": [
        "## **6) Embedding Model**\n"
      ]
    },
    {
      "cell_type": "code",
      "metadata": {
        "id": "WOETV7ivujNm"
      },
      "source": [
        "# Buidling & Training the NN + Embedding layer\n",
        "from keras.models import Sequential\n",
        "from keras.layers import Embedding, Dense, Flatten\n",
        "\n",
        "model = Sequential()\n",
        "\n",
        "model.add(Embedding(input_dim = vocab_size,\n",
        "                    output_dim = glove_dim,\n",
        "                    input_length = sequence))\n",
        "\n",
        "model.add(Flatten())\n",
        "model.add(Dense(units = 3, activation = 'softmax'))\n",
        "model.compile(optimizer = 'adam', metrics = ['accuracy'], loss = 'categorical_crossentropy')\n",
        "\n",
        "# Loading our pre-trained embedding matrix in the Embedding layer\n",
        "model.layers[0].set_weights([embedding_matrix])\n",
        "model.layers[0].trainable = False                       # Weights won't be updated while training.\n",
        "\n",
        "# Training the model\n",
        "history = model.fit(X_train_seq, y_train, epochs = 20, batch_size = 512, verbose = 1)\n",
        "\n",
        "# Save the model\n",
        "#model.save('model.h5')"
      ],
      "execution_count": null,
      "outputs": []
    },
    {
      "cell_type": "markdown",
      "metadata": {
        "id": "Rwj1yehSurIk"
      },
      "source": [
        "## **6) Evaluating Performance**"
      ]
    },
    {
      "cell_type": "code",
      "metadata": {
        "id": "b9yMSuLbuqdH"
      },
      "source": [
        "# Evaluating model performance on test set\n",
        "loss, accuracy = model.evaluate(X_test_seq, y_test, verbose = 1)\n",
        "print(\"\\nAccuracy: {}\\nLoss: {}\".format(accuracy, loss))"
      ],
      "execution_count": null,
      "outputs": []
    },
    {
      "cell_type": "markdown",
      "metadata": {
        "id": "A8NMBrC1pF18"
      },
      "source": [
        "Accuracy & Loss:\n",
        "\n",
        "![Screen Shot 2020-10-25 at 16.49.07.png](data:image/png;base64,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)"
      ]
    }
  ]
}
